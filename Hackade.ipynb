{
 "cells": [
  {
   "cell_type": "code",
   "execution_count": 1,
   "id": "248d4ace",
   "metadata": {},
   "outputs": [],
   "source": [
    "import pandas as pd\n",
    "import numpy as np\n",
    "import matplotlib.pyplot as plt\n",
    "import seaborn as sns\n",
    "from sklearn.model_selection import train_test_split, StratifiedKFold, GridSearchCV, cross_val_score\n",
    "from sklearn.linear_model import LogisticRegression\n",
    "from sklearn.preprocessing import StandardScaler, LabelEncoder\n",
    "from sklearn.svm import SVC\n",
    "from sklearn.tree import DecisionTreeClassifier\n",
    "from sklearn.neighbors import KNeighborsClassifier\n",
    "from sklearn.ensemble import GradientBoostingClassifier\n",
    "from sklearn.metrics import f1_score, classification_report, confusion_matrix  "
   ]
  },
  {
   "cell_type": "code",
   "execution_count": 2,
   "id": "dad939a8",
   "metadata": {},
   "outputs": [],
   "source": [
    "train = pd.read_csv(r\"C:\\Users\\USER\\Downloads\\train_1.csv\")"
   ]
  },
  {
   "cell_type": "code",
   "execution_count": 3,
   "id": "83f22716",
   "metadata": {},
   "outputs": [],
   "source": [
    "test = pd.read_csv(r\"C:\\Users\\USER\\Downloads\\test.csv\")"
   ]
  },
  {
   "cell_type": "code",
   "execution_count": 4,
   "id": "536c1505",
   "metadata": {},
   "outputs": [],
   "source": [
    "Sample = pd.read_csv(r\"C:\\Users\\USER\\Downloads\\SampleSubmission.csv\")"
   ]
  },
  {
   "cell_type": "code",
   "execution_count": 5,
   "id": "4725cced",
   "metadata": {},
   "outputs": [
    {
     "data": {
      "text/html": [
       "<div>\n",
       "<style scoped>\n",
       "    .dataframe tbody tr th:only-of-type {\n",
       "        vertical-align: middle;\n",
       "    }\n",
       "\n",
       "    .dataframe tbody tr th {\n",
       "        vertical-align: top;\n",
       "    }\n",
       "\n",
       "    .dataframe thead th {\n",
       "        text-align: right;\n",
       "    }\n",
       "</style>\n",
       "<table border=\"1\" class=\"dataframe\">\n",
       "  <thead>\n",
       "    <tr style=\"text-align: right;\">\n",
       "      <th></th>\n",
       "      <th>ID</th>\n",
       "      <th>GRE Score</th>\n",
       "      <th>TOEFL Score</th>\n",
       "      <th>University Rating</th>\n",
       "      <th>SOP</th>\n",
       "      <th>LOR</th>\n",
       "      <th>CGPA</th>\n",
       "      <th>Research</th>\n",
       "      <th>Admitted</th>\n",
       "      <th>Age</th>\n",
       "      <th>Location</th>\n",
       "      <th>First_Generation</th>\n",
       "    </tr>\n",
       "  </thead>\n",
       "  <tbody>\n",
       "    <tr>\n",
       "      <th>0</th>\n",
       "      <td>ID_000001</td>\n",
       "      <td>319.0</td>\n",
       "      <td>111.0</td>\n",
       "      <td>4</td>\n",
       "      <td>4.78</td>\n",
       "      <td>4.89</td>\n",
       "      <td>9.51</td>\n",
       "      <td>1</td>\n",
       "      <td>1</td>\n",
       "      <td>26</td>\n",
       "      <td>South America</td>\n",
       "      <td>1</td>\n",
       "    </tr>\n",
       "    <tr>\n",
       "      <th>1</th>\n",
       "      <td>ID_000002</td>\n",
       "      <td>327.0</td>\n",
       "      <td>113.0</td>\n",
       "      <td>5</td>\n",
       "      <td>4.24</td>\n",
       "      <td>4.74</td>\n",
       "      <td>10.19</td>\n",
       "      <td>1</td>\n",
       "      <td>1</td>\n",
       "      <td>23</td>\n",
       "      <td>Africa</td>\n",
       "      <td>1</td>\n",
       "    </tr>\n",
       "    <tr>\n",
       "      <th>2</th>\n",
       "      <td>ID_000003</td>\n",
       "      <td>323.0</td>\n",
       "      <td>110.0</td>\n",
       "      <td>4</td>\n",
       "      <td>3.43</td>\n",
       "      <td>2.99</td>\n",
       "      <td>8.81</td>\n",
       "      <td>1</td>\n",
       "      <td>1</td>\n",
       "      <td>32</td>\n",
       "      <td>South America</td>\n",
       "      <td>0</td>\n",
       "    </tr>\n",
       "    <tr>\n",
       "      <th>3</th>\n",
       "      <td>ID_000004</td>\n",
       "      <td>321.0</td>\n",
       "      <td>105.0</td>\n",
       "      <td>3</td>\n",
       "      <td>3.41</td>\n",
       "      <td>3.38</td>\n",
       "      <td>NaN</td>\n",
       "      <td>0</td>\n",
       "      <td>0</td>\n",
       "      <td>34</td>\n",
       "      <td>Africa</td>\n",
       "      <td>1</td>\n",
       "    </tr>\n",
       "    <tr>\n",
       "      <th>4</th>\n",
       "      <td>ID_000005</td>\n",
       "      <td>316.0</td>\n",
       "      <td>108.0</td>\n",
       "      <td>3</td>\n",
       "      <td>NaN</td>\n",
       "      <td>4.80</td>\n",
       "      <td>NaN</td>\n",
       "      <td>1</td>\n",
       "      <td>1</td>\n",
       "      <td>30</td>\n",
       "      <td>North America</td>\n",
       "      <td>1</td>\n",
       "    </tr>\n",
       "  </tbody>\n",
       "</table>\n",
       "</div>"
      ],
      "text/plain": [
       "          ID  GRE Score  TOEFL Score  University Rating   SOP  LOR    CGPA  \\\n",
       "0  ID_000001      319.0        111.0                  4  4.78  4.89   9.51   \n",
       "1  ID_000002      327.0        113.0                  5  4.24  4.74  10.19   \n",
       "2  ID_000003      323.0        110.0                  4  3.43  2.99   8.81   \n",
       "3  ID_000004      321.0        105.0                  3  3.41  3.38    NaN   \n",
       "4  ID_000005      316.0        108.0                  3   NaN  4.80    NaN   \n",
       "\n",
       "   Research  Admitted  Age       Location  First_Generation  \n",
       "0         1         1   26  South America                 1  \n",
       "1         1         1   23         Africa                 1  \n",
       "2         1         1   32  South America                 0  \n",
       "3         0         0   34         Africa                 1  \n",
       "4         1         1   30  North America                 1  "
      ]
     },
     "execution_count": 5,
     "metadata": {},
     "output_type": "execute_result"
    }
   ],
   "source": [
    "train.head()"
   ]
  },
  {
   "cell_type": "code",
   "execution_count": 6,
   "id": "b413e186",
   "metadata": {},
   "outputs": [
    {
     "data": {
      "text/html": [
       "<div>\n",
       "<style scoped>\n",
       "    .dataframe tbody tr th:only-of-type {\n",
       "        vertical-align: middle;\n",
       "    }\n",
       "\n",
       "    .dataframe tbody tr th {\n",
       "        vertical-align: top;\n",
       "    }\n",
       "\n",
       "    .dataframe thead th {\n",
       "        text-align: right;\n",
       "    }\n",
       "</style>\n",
       "<table border=\"1\" class=\"dataframe\">\n",
       "  <thead>\n",
       "    <tr style=\"text-align: right;\">\n",
       "      <th></th>\n",
       "      <th>GRE Score</th>\n",
       "      <th>TOEFL Score</th>\n",
       "      <th>University Rating</th>\n",
       "      <th>SOP</th>\n",
       "      <th>LOR</th>\n",
       "      <th>CGPA</th>\n",
       "      <th>Research</th>\n",
       "      <th>Age</th>\n",
       "      <th>Location</th>\n",
       "      <th>First_Generation</th>\n",
       "      <th>ID</th>\n",
       "    </tr>\n",
       "  </thead>\n",
       "  <tbody>\n",
       "    <tr>\n",
       "      <th>0</th>\n",
       "      <td>323.0</td>\n",
       "      <td>110.0</td>\n",
       "      <td>3</td>\n",
       "      <td>3.49</td>\n",
       "      <td>3.72</td>\n",
       "      <td>9.50</td>\n",
       "      <td>1</td>\n",
       "      <td>24</td>\n",
       "      <td>South America</td>\n",
       "      <td>0</td>\n",
       "      <td>ID_003601</td>\n",
       "    </tr>\n",
       "    <tr>\n",
       "      <th>1</th>\n",
       "      <td>324.0</td>\n",
       "      <td>111.0</td>\n",
       "      <td>4</td>\n",
       "      <td>4.32</td>\n",
       "      <td>3.84</td>\n",
       "      <td>8.86</td>\n",
       "      <td>1</td>\n",
       "      <td>23</td>\n",
       "      <td>Asia</td>\n",
       "      <td>0</td>\n",
       "      <td>ID_003602</td>\n",
       "    </tr>\n",
       "    <tr>\n",
       "      <th>2</th>\n",
       "      <td>311.0</td>\n",
       "      <td>104.0</td>\n",
       "      <td>2</td>\n",
       "      <td>4.38</td>\n",
       "      <td>1.84</td>\n",
       "      <td>7.21</td>\n",
       "      <td>1</td>\n",
       "      <td>24</td>\n",
       "      <td>Asia</td>\n",
       "      <td>1</td>\n",
       "      <td>ID_003603</td>\n",
       "    </tr>\n",
       "    <tr>\n",
       "      <th>3</th>\n",
       "      <td>323.0</td>\n",
       "      <td>109.0</td>\n",
       "      <td>4</td>\n",
       "      <td>4.92</td>\n",
       "      <td>3.81</td>\n",
       "      <td>10.00</td>\n",
       "      <td>1</td>\n",
       "      <td>27</td>\n",
       "      <td>North America</td>\n",
       "      <td>0</td>\n",
       "      <td>ID_003604</td>\n",
       "    </tr>\n",
       "    <tr>\n",
       "      <th>4</th>\n",
       "      <td>321.0</td>\n",
       "      <td>111.0</td>\n",
       "      <td>4</td>\n",
       "      <td>4.00</td>\n",
       "      <td>5.99</td>\n",
       "      <td>8.59</td>\n",
       "      <td>1</td>\n",
       "      <td>29</td>\n",
       "      <td>North America</td>\n",
       "      <td>1</td>\n",
       "      <td>ID_003605</td>\n",
       "    </tr>\n",
       "  </tbody>\n",
       "</table>\n",
       "</div>"
      ],
      "text/plain": [
       "   GRE Score  TOEFL Score  University Rating   SOP  LOR    CGPA  Research  \\\n",
       "0      323.0        110.0                  3  3.49  3.72   9.50         1   \n",
       "1      324.0        111.0                  4  4.32  3.84   8.86         1   \n",
       "2      311.0        104.0                  2  4.38  1.84   7.21         1   \n",
       "3      323.0        109.0                  4  4.92  3.81  10.00         1   \n",
       "4      321.0        111.0                  4  4.00  5.99   8.59         1   \n",
       "\n",
       "   Age       Location  First_Generation         ID  \n",
       "0   24  South America                 0  ID_003601  \n",
       "1   23           Asia                 0  ID_003602  \n",
       "2   24           Asia                 1  ID_003603  \n",
       "3   27  North America                 0  ID_003604  \n",
       "4   29  North America                 1  ID_003605  "
      ]
     },
     "execution_count": 6,
     "metadata": {},
     "output_type": "execute_result"
    }
   ],
   "source": [
    "test.head()"
   ]
  },
  {
   "cell_type": "code",
   "execution_count": 7,
   "id": "6ab664ed",
   "metadata": {},
   "outputs": [
    {
     "data": {
      "text/plain": [
       "(3600, 12)"
      ]
     },
     "execution_count": 7,
     "metadata": {},
     "output_type": "execute_result"
    }
   ],
   "source": [
    "train.shape"
   ]
  },
  {
   "cell_type": "code",
   "execution_count": 8,
   "id": "551bd27f",
   "metadata": {},
   "outputs": [
    {
     "data": {
      "text/plain": [
       "(900, 11)"
      ]
     },
     "execution_count": 8,
     "metadata": {},
     "output_type": "execute_result"
    }
   ],
   "source": [
    "test.shape"
   ]
  },
  {
   "cell_type": "code",
   "execution_count": 9,
   "id": "1254e0b2",
   "metadata": {},
   "outputs": [
    {
     "name": "stdout",
     "output_type": "stream",
     "text": [
      "<class 'pandas.core.frame.DataFrame'>\n",
      "RangeIndex: 3600 entries, 0 to 3599\n",
      "Data columns (total 12 columns):\n",
      " #   Column             Non-Null Count  Dtype  \n",
      "---  ------             --------------  -----  \n",
      " 0   ID                 3600 non-null   object \n",
      " 1   GRE Score          3240 non-null   float64\n",
      " 2   TOEFL Score        3240 non-null   float64\n",
      " 3   University Rating  3600 non-null   int64  \n",
      " 4   SOP                3240 non-null   float64\n",
      " 5   LOR                3600 non-null   float64\n",
      " 6   CGPA               3240 non-null   float64\n",
      " 7   Research           3600 non-null   int64  \n",
      " 8   Admitted           3600 non-null   int64  \n",
      " 9   Age                3600 non-null   int64  \n",
      " 10  Location           3600 non-null   object \n",
      " 11  First_Generation   3600 non-null   int64  \n",
      "dtypes: float64(5), int64(5), object(2)\n",
      "memory usage: 337.6+ KB\n"
     ]
    }
   ],
   "source": [
    "train.info()"
   ]
  },
  {
   "cell_type": "code",
   "execution_count": 10,
   "id": "da1f4371",
   "metadata": {},
   "outputs": [
    {
     "name": "stdout",
     "output_type": "stream",
     "text": [
      "<class 'pandas.core.frame.DataFrame'>\n",
      "RangeIndex: 900 entries, 0 to 899\n",
      "Data columns (total 11 columns):\n",
      " #   Column             Non-Null Count  Dtype  \n",
      "---  ------             --------------  -----  \n",
      " 0   GRE Score          810 non-null    float64\n",
      " 1   TOEFL Score        810 non-null    float64\n",
      " 2   University Rating  900 non-null    int64  \n",
      " 3   SOP                810 non-null    float64\n",
      " 4   LOR                900 non-null    float64\n",
      " 5   CGPA               810 non-null    float64\n",
      " 6   Research           900 non-null    int64  \n",
      " 7   Age                900 non-null    int64  \n",
      " 8   Location           900 non-null    object \n",
      " 9   First_Generation   900 non-null    int64  \n",
      " 10  ID                 900 non-null    object \n",
      "dtypes: float64(5), int64(4), object(2)\n",
      "memory usage: 77.5+ KB\n"
     ]
    }
   ],
   "source": [
    "test.info()"
   ]
  },
  {
   "cell_type": "markdown",
   "id": "88b05a21",
   "metadata": {},
   "source": [
    "###### Encoding the Location column"
   ]
  },
  {
   "cell_type": "code",
   "execution_count": 11,
   "id": "c5f58ac7",
   "metadata": {},
   "outputs": [],
   "source": [
    "train = pd.get_dummies(train, columns=['Location'], drop_first=True)\n",
    "test = pd.get_dummies(test, columns=['Location'], drop_first=True)"
   ]
  },
  {
   "cell_type": "code",
   "execution_count": 12,
   "id": "2bccb17b",
   "metadata": {
    "scrolled": true
   },
   "outputs": [
    {
     "data": {
      "text/plain": [
       "ID                          0\n",
       "GRE Score                 360\n",
       "TOEFL Score               360\n",
       "University Rating           0\n",
       "SOP                       360\n",
       "LOR                         0\n",
       "CGPA                      360\n",
       "Research                    0\n",
       "Admitted                    0\n",
       "Age                         0\n",
       "First_Generation            0\n",
       "Location_Asia               0\n",
       "Location_Europe             0\n",
       "Location_North America      0\n",
       "Location_South America      0\n",
       "dtype: int64"
      ]
     },
     "execution_count": 12,
     "metadata": {},
     "output_type": "execute_result"
    }
   ],
   "source": [
    "train.isnull().sum()"
   ]
  },
  {
   "cell_type": "code",
   "execution_count": 13,
   "id": "750be126",
   "metadata": {},
   "outputs": [
    {
     "data": {
      "text/plain": [
       "GRE Score                 90\n",
       "TOEFL Score               90\n",
       "University Rating          0\n",
       "SOP                       90\n",
       "LOR                        0\n",
       "CGPA                      90\n",
       "Research                   0\n",
       "Age                        0\n",
       "First_Generation           0\n",
       "ID                         0\n",
       "Location_Asia              0\n",
       "Location_Europe            0\n",
       "Location_North America     0\n",
       "Location_South America     0\n",
       "dtype: int64"
      ]
     },
     "execution_count": 13,
     "metadata": {},
     "output_type": "execute_result"
    }
   ],
   "source": [
    "test.isnull().sum()"
   ]
  },
  {
   "cell_type": "code",
   "execution_count": 14,
   "id": "46f79a67",
   "metadata": {},
   "outputs": [
    {
     "data": {
      "image/png": "[encoded data removed]",
      "text/plain": [
       "<Figure size 432x288 with 1 Axes>"
      ]
     },
     "metadata": {
      "needs_background": "light"
     },
     "output_type": "display_data"
    }
   ],
   "source": [
    "# Distribution of target variable\n",
    "sns.countplot(x='Admitted', data=train)\n",
    "plt.title(\"Admission Distribution\")\n",
    "plt.show()"
   ]
  },
  {
   "cell_type": "code",
   "execution_count": 15,
   "id": "4fcd97d0",
   "metadata": {},
   "outputs": [
    {
     "data": {
      "text/plain": [
       "1    2395\n",
       "0    1205\n",
       "Name: Admitted, dtype: int64"
      ]
     },
     "execution_count": 15,
     "metadata": {},
     "output_type": "execute_result"
    }
   ],
   "source": [
    "train['Admitted'].value_counts()"
   ]
  },
  {
   "cell_type": "code",
   "execution_count": 16,
   "id": "beace30f",
   "metadata": {},
   "outputs": [
    {
     "data": {
      "image/png": "[encoded data removed]",
      "text/plain": [
       "<Figure size 432x288 with 1 Axes>"
      ]
     },
     "metadata": {
      "needs_background": "light"
     },
     "output_type": "display_data"
    },
    {
     "data": {
      "image/png": "[encoded data removed]",
      "text/plain": [
       "<Figure size 432x288 with 1 Axes>"
      ]
     },
     "metadata": {
      "needs_background": "light"
     },
     "output_type": "display_data"
    },
    {
     "data": {
      "image/png": "[encoded data removed]",
      "text/plain": [
       "<Figure size 432x288 with 1 Axes>"
      ]
     },
     "metadata": {
      "needs_background": "light"
     },
     "output_type": "display_data"
    },
    {
     "data": {
      "image/png": "[encoded data removed]",
      "text/plain": [
       "<Figure size 432x288 with 1 Axes>"
      ]
     },
     "metadata": {
      "needs_background": "light"
     },
     "output_type": "display_data"
    }
   ],
   "source": [
    "# Plot distributions of key features\n",
    "num_features = ['GRE Score', 'TOEFL Score', 'CGPA', 'SOP']\n",
    "for col in num_features:\n",
    "    sns.histplot(train[col], kde=True)\n",
    "    plt.title(f'Distribution of {col}')\n",
    "    plt.show()\n"
   ]
  },
  {
   "cell_type": "code",
   "execution_count": 17,
   "id": "f4e8404f",
   "metadata": {},
   "outputs": [
    {
     "data": {
      "image/png": "[encoded data removed]",
      "text/plain": [
       "<Figure size 432x288 with 1 Axes>"
      ]
     },
     "metadata": {
      "needs_background": "light"
     },
     "output_type": "display_data"
    },
    {
     "data": {
      "image/png": "[encoded data removed]",
      "text/plain": [
       "<Figure size 432x288 with 1 Axes>"
      ]
     },
     "metadata": {
      "needs_background": "light"
     },
     "output_type": "display_data"
    },
    {
     "data": {
      "image/png": "[encoded data removed]",
      "text/plain": [
       "<Figure size 432x288 with 1 Axes>"
      ]
     },
     "metadata": {
      "needs_background": "light"
     },
     "output_type": "display_data"
    },
    {
     "data": {
      "image/png": "[encoded data removed]",
      "text/plain": [
       "<Figure size 432x288 with 1 Axes>"
      ]
     },
     "metadata": {
      "needs_background": "light"
     },
     "output_type": "display_data"
    }
   ],
   "source": [
    "# Plot distributions of key features\n",
    "num_features = ['GRE Score', 'TOEFL Score', 'CGPA', 'SOP']\n",
    "for col in num_features:\n",
    "    sns.histplot(test[col], kde=True)\n",
    "    plt.title(f'Distribution of {col}')\n",
    "    plt.show()\n"
   ]
  },
  {
   "cell_type": "code",
   "execution_count": 18,
   "id": "79990795",
   "metadata": {},
   "outputs": [],
   "source": [
    "# Since the data are normally distributed, I will implemet the mean to handle the missing dataset"
   ]
  },
  {
   "cell_type": "code",
   "execution_count": 19,
   "id": "c5c6c620",
   "metadata": {},
   "outputs": [],
   "source": [
    "# Fill missing numeric values with the mean of each column\n",
    "numeric_cols = ['GRE Score', 'TOEFL Score', 'SOP', 'CGPA']\n",
    "train[numeric_cols] = train[numeric_cols].fillna(train[numeric_cols].mean())"
   ]
  },
  {
   "cell_type": "code",
   "execution_count": 20,
   "id": "c20c0010",
   "metadata": {},
   "outputs": [
    {
     "data": {
      "text/plain": [
       "ID                        0\n",
       "GRE Score                 0\n",
       "TOEFL Score               0\n",
       "University Rating         0\n",
       "SOP                       0\n",
       "LOR                       0\n",
       "CGPA                      0\n",
       "Research                  0\n",
       "Admitted                  0\n",
       "Age                       0\n",
       "First_Generation          0\n",
       "Location_Asia             0\n",
       "Location_Europe           0\n",
       "Location_North America    0\n",
       "Location_South America    0\n",
       "dtype: int64"
      ]
     },
     "execution_count": 20,
     "metadata": {},
     "output_type": "execute_result"
    }
   ],
   "source": [
    "train.isnull().sum()"
   ]
  },
  {
   "cell_type": "code",
   "execution_count": 21,
   "id": "3d53f12f",
   "metadata": {},
   "outputs": [],
   "source": [
    "# Fill missing numeric values with the mean of each column\n",
    "numeric_cols = ['GRE Score', 'TOEFL Score', 'SOP', 'CGPA']\n",
    "test[numeric_cols] = test[numeric_cols].fillna(train[numeric_cols].mean())"
   ]
  },
  {
   "cell_type": "code",
   "execution_count": 22,
   "id": "4df5798d",
   "metadata": {},
   "outputs": [
    {
     "data": {
      "text/plain": [
       "GRE Score                 0\n",
       "TOEFL Score               0\n",
       "University Rating         0\n",
       "SOP                       0\n",
       "LOR                       0\n",
       "CGPA                      0\n",
       "Research                  0\n",
       "Age                       0\n",
       "First_Generation          0\n",
       "ID                        0\n",
       "Location_Asia             0\n",
       "Location_Europe           0\n",
       "Location_North America    0\n",
       "Location_South America    0\n",
       "dtype: int64"
      ]
     },
     "execution_count": 22,
     "metadata": {},
     "output_type": "execute_result"
    }
   ],
   "source": [
    "test.isnull().sum()"
   ]
  },
  {
   "cell_type": "code",
   "execution_count": 23,
   "id": "afc76497",
   "metadata": {},
   "outputs": [
    {
     "data": {
      "text/html": [
       "<div>\n",
       "<style scoped>\n",
       "    .dataframe tbody tr th:only-of-type {\n",
       "        vertical-align: middle;\n",
       "    }\n",
       "\n",
       "    .dataframe tbody tr th {\n",
       "        vertical-align: top;\n",
       "    }\n",
       "\n",
       "    .dataframe thead th {\n",
       "        text-align: right;\n",
       "    }\n",
       "</style>\n",
       "<table border=\"1\" class=\"dataframe\">\n",
       "  <thead>\n",
       "    <tr style=\"text-align: right;\">\n",
       "      <th></th>\n",
       "      <th>ID</th>\n",
       "      <th>GRE Score</th>\n",
       "      <th>TOEFL Score</th>\n",
       "      <th>University Rating</th>\n",
       "      <th>SOP</th>\n",
       "      <th>LOR</th>\n",
       "      <th>CGPA</th>\n",
       "      <th>Research</th>\n",
       "      <th>Admitted</th>\n",
       "      <th>Age</th>\n",
       "      <th>First_Generation</th>\n",
       "      <th>Location_Asia</th>\n",
       "      <th>Location_Europe</th>\n",
       "      <th>Location_North America</th>\n",
       "      <th>Location_South America</th>\n",
       "    </tr>\n",
       "  </thead>\n",
       "  <tbody>\n",
       "    <tr>\n",
       "      <th>0</th>\n",
       "      <td>ID_000001</td>\n",
       "      <td>319.0</td>\n",
       "      <td>111.0</td>\n",
       "      <td>4</td>\n",
       "      <td>4.78000</td>\n",
       "      <td>4.89</td>\n",
       "      <td>9.510000</td>\n",
       "      <td>1</td>\n",
       "      <td>1</td>\n",
       "      <td>26</td>\n",
       "      <td>1</td>\n",
       "      <td>0</td>\n",
       "      <td>0</td>\n",
       "      <td>0</td>\n",
       "      <td>1</td>\n",
       "    </tr>\n",
       "    <tr>\n",
       "      <th>1</th>\n",
       "      <td>ID_000002</td>\n",
       "      <td>327.0</td>\n",
       "      <td>113.0</td>\n",
       "      <td>5</td>\n",
       "      <td>4.24000</td>\n",
       "      <td>4.74</td>\n",
       "      <td>10.190000</td>\n",
       "      <td>1</td>\n",
       "      <td>1</td>\n",
       "      <td>23</td>\n",
       "      <td>1</td>\n",
       "      <td>0</td>\n",
       "      <td>0</td>\n",
       "      <td>0</td>\n",
       "      <td>0</td>\n",
       "    </tr>\n",
       "    <tr>\n",
       "      <th>2</th>\n",
       "      <td>ID_000003</td>\n",
       "      <td>323.0</td>\n",
       "      <td>110.0</td>\n",
       "      <td>4</td>\n",
       "      <td>3.43000</td>\n",
       "      <td>2.99</td>\n",
       "      <td>8.810000</td>\n",
       "      <td>1</td>\n",
       "      <td>1</td>\n",
       "      <td>32</td>\n",
       "      <td>0</td>\n",
       "      <td>0</td>\n",
       "      <td>0</td>\n",
       "      <td>0</td>\n",
       "      <td>1</td>\n",
       "    </tr>\n",
       "    <tr>\n",
       "      <th>3</th>\n",
       "      <td>ID_000004</td>\n",
       "      <td>321.0</td>\n",
       "      <td>105.0</td>\n",
       "      <td>3</td>\n",
       "      <td>3.41000</td>\n",
       "      <td>3.38</td>\n",
       "      <td>8.576917</td>\n",
       "      <td>0</td>\n",
       "      <td>0</td>\n",
       "      <td>34</td>\n",
       "      <td>1</td>\n",
       "      <td>0</td>\n",
       "      <td>0</td>\n",
       "      <td>0</td>\n",
       "      <td>0</td>\n",
       "    </tr>\n",
       "    <tr>\n",
       "      <th>4</th>\n",
       "      <td>ID_000005</td>\n",
       "      <td>316.0</td>\n",
       "      <td>108.0</td>\n",
       "      <td>3</td>\n",
       "      <td>3.37371</td>\n",
       "      <td>4.80</td>\n",
       "      <td>8.576917</td>\n",
       "      <td>1</td>\n",
       "      <td>1</td>\n",
       "      <td>30</td>\n",
       "      <td>1</td>\n",
       "      <td>0</td>\n",
       "      <td>0</td>\n",
       "      <td>1</td>\n",
       "      <td>0</td>\n",
       "    </tr>\n",
       "  </tbody>\n",
       "</table>\n",
       "</div>"
      ],
      "text/plain": [
       "          ID  GRE Score  TOEFL Score  University Rating      SOP  LOR   \\\n",
       "0  ID_000001      319.0        111.0                  4  4.78000  4.89   \n",
       "1  ID_000002      327.0        113.0                  5  4.24000  4.74   \n",
       "2  ID_000003      323.0        110.0                  4  3.43000  2.99   \n",
       "3  ID_000004      321.0        105.0                  3  3.41000  3.38   \n",
       "4  ID_000005      316.0        108.0                  3  3.37371  4.80   \n",
       "\n",
       "        CGPA  Research  Admitted  Age  First_Generation  Location_Asia  \\\n",
       "0   9.510000         1         1   26                 1              0   \n",
       "1  10.190000         1         1   23                 1              0   \n",
       "2   8.810000         1         1   32                 0              0   \n",
       "3   8.576917         0         0   34                 1              0   \n",
       "4   8.576917         1         1   30                 1              0   \n",
       "\n",
       "   Location_Europe  Location_North America  Location_South America  \n",
       "0                0                       0                       1  \n",
       "1                0                       0                       0  \n",
       "2                0                       0                       1  \n",
       "3                0                       0                       0  \n",
       "4                0                       1                       0  "
      ]
     },
     "execution_count": 23,
     "metadata": {},
     "output_type": "execute_result"
    }
   ],
   "source": [
    "train.head()"
   ]
  },
  {
   "cell_type": "code",
   "execution_count": 24,
   "id": "51cd4777",
   "metadata": {},
   "outputs": [
    {
     "data": {
      "text/html": [
       "<div>\n",
       "<style scoped>\n",
       "    .dataframe tbody tr th:only-of-type {\n",
       "        vertical-align: middle;\n",
       "    }\n",
       "\n",
       "    .dataframe tbody tr th {\n",
       "        vertical-align: top;\n",
       "    }\n",
       "\n",
       "    .dataframe thead th {\n",
       "        text-align: right;\n",
       "    }\n",
       "</style>\n",
       "<table border=\"1\" class=\"dataframe\">\n",
       "  <thead>\n",
       "    <tr style=\"text-align: right;\">\n",
       "      <th></th>\n",
       "      <th>GRE Score</th>\n",
       "      <th>TOEFL Score</th>\n",
       "      <th>University Rating</th>\n",
       "      <th>SOP</th>\n",
       "      <th>LOR</th>\n",
       "      <th>CGPA</th>\n",
       "      <th>Research</th>\n",
       "      <th>Age</th>\n",
       "      <th>First_Generation</th>\n",
       "      <th>ID</th>\n",
       "      <th>Location_Asia</th>\n",
       "      <th>Location_Europe</th>\n",
       "      <th>Location_North America</th>\n",
       "      <th>Location_South America</th>\n",
       "    </tr>\n",
       "  </thead>\n",
       "  <tbody>\n",
       "    <tr>\n",
       "      <th>0</th>\n",
       "      <td>323.0</td>\n",
       "      <td>110.0</td>\n",
       "      <td>3</td>\n",
       "      <td>3.49</td>\n",
       "      <td>3.72</td>\n",
       "      <td>9.50</td>\n",
       "      <td>1</td>\n",
       "      <td>24</td>\n",
       "      <td>0</td>\n",
       "      <td>ID_003601</td>\n",
       "      <td>0</td>\n",
       "      <td>0</td>\n",
       "      <td>0</td>\n",
       "      <td>1</td>\n",
       "    </tr>\n",
       "    <tr>\n",
       "      <th>1</th>\n",
       "      <td>324.0</td>\n",
       "      <td>111.0</td>\n",
       "      <td>4</td>\n",
       "      <td>4.32</td>\n",
       "      <td>3.84</td>\n",
       "      <td>8.86</td>\n",
       "      <td>1</td>\n",
       "      <td>23</td>\n",
       "      <td>0</td>\n",
       "      <td>ID_003602</td>\n",
       "      <td>1</td>\n",
       "      <td>0</td>\n",
       "      <td>0</td>\n",
       "      <td>0</td>\n",
       "    </tr>\n",
       "    <tr>\n",
       "      <th>2</th>\n",
       "      <td>311.0</td>\n",
       "      <td>104.0</td>\n",
       "      <td>2</td>\n",
       "      <td>4.38</td>\n",
       "      <td>1.84</td>\n",
       "      <td>7.21</td>\n",
       "      <td>1</td>\n",
       "      <td>24</td>\n",
       "      <td>1</td>\n",
       "      <td>ID_003603</td>\n",
       "      <td>1</td>\n",
       "      <td>0</td>\n",
       "      <td>0</td>\n",
       "      <td>0</td>\n",
       "    </tr>\n",
       "    <tr>\n",
       "      <th>3</th>\n",
       "      <td>323.0</td>\n",
       "      <td>109.0</td>\n",
       "      <td>4</td>\n",
       "      <td>4.92</td>\n",
       "      <td>3.81</td>\n",
       "      <td>10.00</td>\n",
       "      <td>1</td>\n",
       "      <td>27</td>\n",
       "      <td>0</td>\n",
       "      <td>ID_003604</td>\n",
       "      <td>0</td>\n",
       "      <td>0</td>\n",
       "      <td>1</td>\n",
       "      <td>0</td>\n",
       "    </tr>\n",
       "    <tr>\n",
       "      <th>4</th>\n",
       "      <td>321.0</td>\n",
       "      <td>111.0</td>\n",
       "      <td>4</td>\n",
       "      <td>4.00</td>\n",
       "      <td>5.99</td>\n",
       "      <td>8.59</td>\n",
       "      <td>1</td>\n",
       "      <td>29</td>\n",
       "      <td>1</td>\n",
       "      <td>ID_003605</td>\n",
       "      <td>0</td>\n",
       "      <td>0</td>\n",
       "      <td>1</td>\n",
       "      <td>0</td>\n",
       "    </tr>\n",
       "  </tbody>\n",
       "</table>\n",
       "</div>"
      ],
      "text/plain": [
       "   GRE Score  TOEFL Score  University Rating   SOP  LOR    CGPA  Research  \\\n",
       "0      323.0        110.0                  3  3.49  3.72   9.50         1   \n",
       "1      324.0        111.0                  4  4.32  3.84   8.86         1   \n",
       "2      311.0        104.0                  2  4.38  1.84   7.21         1   \n",
       "3      323.0        109.0                  4  4.92  3.81  10.00         1   \n",
       "4      321.0        111.0                  4  4.00  5.99   8.59         1   \n",
       "\n",
       "   Age  First_Generation         ID  Location_Asia  Location_Europe  \\\n",
       "0   24                 0  ID_003601              0                0   \n",
       "1   23                 0  ID_003602              1                0   \n",
       "2   24                 1  ID_003603              1                0   \n",
       "3   27                 0  ID_003604              0                0   \n",
       "4   29                 1  ID_003605              0                0   \n",
       "\n",
       "   Location_North America  Location_South America  \n",
       "0                       0                       1  \n",
       "1                       0                       0  \n",
       "2                       0                       0  \n",
       "3                       1                       0  \n",
       "4                       1                       0  "
      ]
     },
     "execution_count": 24,
     "metadata": {},
     "output_type": "execute_result"
    }
   ],
   "source": [
    "test.head()"
   ]
  },
  {
   "cell_type": "code",
   "execution_count": 25,
   "id": "1981582c",
   "metadata": {},
   "outputs": [],
   "source": [
    "#Standardizing my dataset"
   ]
  },
  {
   "cell_type": "code",
   "execution_count": 26,
   "id": "0e2d53de",
   "metadata": {},
   "outputs": [],
   "source": [
    "scaler = StandardScaler()"
   ]
  },
  {
   "cell_type": "code",
   "execution_count": 33,
   "id": "c6bdb801",
   "metadata": {},
   "outputs": [],
   "source": [
    "#scaler.fit_transform(train[['GRE Score','TOEFL Score','University Rating','SOP','LOR','CGPA','Age']])"
   ]
  },
  {
   "cell_type": "code",
   "execution_count": 37,
   "id": "0900c49b",
   "metadata": {},
   "outputs": [],
   "source": [
    "cols = ['GRE Score','TOEFL Score','University Rating','SOP','LOR ','CGPA','Age']\n",
    "train[cols] = scaler.fit_transform(train[cols])"
   ]
  },
  {
   "cell_type": "code",
   "execution_count": 36,
   "id": "8676bb45",
   "metadata": {},
   "outputs": [
    {
     "name": "stdout",
     "output_type": "stream",
     "text": [
      "['ID', 'GRE Score', 'TOEFL Score', 'University Rating', 'SOP', 'LOR ', 'CGPA', 'Research', 'Admitted', 'Age', 'First_Generation', 'Location_Asia', 'Location_Europe', 'Location_North America', 'Location_South America']\n"
     ]
    }
   ],
   "source": [
    "print(train.columns.tolist())"
   ]
  },
  {
   "cell_type": "code",
   "execution_count": 40,
   "id": "b76a9c9d",
   "metadata": {},
   "outputs": [],
   "source": [
    "#Moving the ID column to the first column\n",
    "test_cols = test.columns.tolist()\n",
    "test_cols.insert(0,test_cols.pop(test_cols.index('ID')))\n",
    "test = test[test_cols]"
   ]
  },
  {
   "cell_type": "code",
   "execution_count": 41,
   "id": "aca58f40",
   "metadata": {},
   "outputs": [
    {
     "data": {
      "text/html": [
       "<div>\n",
       "<style scoped>\n",
       "    .dataframe tbody tr th:only-of-type {\n",
       "        vertical-align: middle;\n",
       "    }\n",
       "\n",
       "    .dataframe tbody tr th {\n",
       "        vertical-align: top;\n",
       "    }\n",
       "\n",
       "    .dataframe thead th {\n",
       "        text-align: right;\n",
       "    }\n",
       "</style>\n",
       "<table border=\"1\" class=\"dataframe\">\n",
       "  <thead>\n",
       "    <tr style=\"text-align: right;\">\n",
       "      <th></th>\n",
       "      <th>ID</th>\n",
       "      <th>GRE Score</th>\n",
       "      <th>TOEFL Score</th>\n",
       "      <th>University Rating</th>\n",
       "      <th>SOP</th>\n",
       "      <th>LOR</th>\n",
       "      <th>CGPA</th>\n",
       "      <th>Research</th>\n",
       "      <th>Age</th>\n",
       "      <th>First_Generation</th>\n",
       "      <th>Location_Asia</th>\n",
       "      <th>Location_Europe</th>\n",
       "      <th>Location_North America</th>\n",
       "      <th>Location_South America</th>\n",
       "    </tr>\n",
       "  </thead>\n",
       "  <tbody>\n",
       "    <tr>\n",
       "      <th>0</th>\n",
       "      <td>ID_003601</td>\n",
       "      <td>323.0</td>\n",
       "      <td>110.0</td>\n",
       "      <td>3</td>\n",
       "      <td>3.49</td>\n",
       "      <td>3.72</td>\n",
       "      <td>9.50</td>\n",
       "      <td>1</td>\n",
       "      <td>24</td>\n",
       "      <td>0</td>\n",
       "      <td>0</td>\n",
       "      <td>0</td>\n",
       "      <td>0</td>\n",
       "      <td>1</td>\n",
       "    </tr>\n",
       "    <tr>\n",
       "      <th>1</th>\n",
       "      <td>ID_003602</td>\n",
       "      <td>324.0</td>\n",
       "      <td>111.0</td>\n",
       "      <td>4</td>\n",
       "      <td>4.32</td>\n",
       "      <td>3.84</td>\n",
       "      <td>8.86</td>\n",
       "      <td>1</td>\n",
       "      <td>23</td>\n",
       "      <td>0</td>\n",
       "      <td>1</td>\n",
       "      <td>0</td>\n",
       "      <td>0</td>\n",
       "      <td>0</td>\n",
       "    </tr>\n",
       "    <tr>\n",
       "      <th>2</th>\n",
       "      <td>ID_003603</td>\n",
       "      <td>311.0</td>\n",
       "      <td>104.0</td>\n",
       "      <td>2</td>\n",
       "      <td>4.38</td>\n",
       "      <td>1.84</td>\n",
       "      <td>7.21</td>\n",
       "      <td>1</td>\n",
       "      <td>24</td>\n",
       "      <td>1</td>\n",
       "      <td>1</td>\n",
       "      <td>0</td>\n",
       "      <td>0</td>\n",
       "      <td>0</td>\n",
       "    </tr>\n",
       "    <tr>\n",
       "      <th>3</th>\n",
       "      <td>ID_003604</td>\n",
       "      <td>323.0</td>\n",
       "      <td>109.0</td>\n",
       "      <td>4</td>\n",
       "      <td>4.92</td>\n",
       "      <td>3.81</td>\n",
       "      <td>10.00</td>\n",
       "      <td>1</td>\n",
       "      <td>27</td>\n",
       "      <td>0</td>\n",
       "      <td>0</td>\n",
       "      <td>0</td>\n",
       "      <td>1</td>\n",
       "      <td>0</td>\n",
       "    </tr>\n",
       "    <tr>\n",
       "      <th>4</th>\n",
       "      <td>ID_003605</td>\n",
       "      <td>321.0</td>\n",
       "      <td>111.0</td>\n",
       "      <td>4</td>\n",
       "      <td>4.00</td>\n",
       "      <td>5.99</td>\n",
       "      <td>8.59</td>\n",
       "      <td>1</td>\n",
       "      <td>29</td>\n",
       "      <td>1</td>\n",
       "      <td>0</td>\n",
       "      <td>0</td>\n",
       "      <td>1</td>\n",
       "      <td>0</td>\n",
       "    </tr>\n",
       "  </tbody>\n",
       "</table>\n",
       "</div>"
      ],
      "text/plain": [
       "          ID  GRE Score  TOEFL Score  University Rating   SOP  LOR    CGPA  \\\n",
       "0  ID_003601      323.0        110.0                  3  3.49  3.72   9.50   \n",
       "1  ID_003602      324.0        111.0                  4  4.32  3.84   8.86   \n",
       "2  ID_003603      311.0        104.0                  2  4.38  1.84   7.21   \n",
       "3  ID_003604      323.0        109.0                  4  4.92  3.81  10.00   \n",
       "4  ID_003605      321.0        111.0                  4  4.00  5.99   8.59   \n",
       "\n",
       "   Research  Age  First_Generation  Location_Asia  Location_Europe  \\\n",
       "0         1   24                 0              0                0   \n",
       "1         1   23                 0              1                0   \n",
       "2         1   24                 1              1                0   \n",
       "3         1   27                 0              0                0   \n",
       "4         1   29                 1              0                0   \n",
       "\n",
       "   Location_North America  Location_South America  \n",
       "0                       0                       1  \n",
       "1                       0                       0  \n",
       "2                       0                       0  \n",
       "3                       1                       0  \n",
       "4                       1                       0  "
      ]
     },
     "execution_count": 41,
     "metadata": {},
     "output_type": "execute_result"
    }
   ],
   "source": [
    "test.head()"
   ]
  },
  {
   "cell_type": "code",
   "execution_count": 43,
   "id": "969fe190",
   "metadata": {},
   "outputs": [],
   "source": [
    "col = ['GRE Score','TOEFL Score','University Rating','SOP','LOR ','CGPA','Age']\n",
    "test[col] = scaler.fit_transform(test[col])"
   ]
  },
  {
   "cell_type": "code",
   "execution_count": 44,
   "id": "48b3950c",
   "metadata": {},
   "outputs": [
    {
     "data": {
      "text/html": [
       "<div>\n",
       "<style scoped>\n",
       "    .dataframe tbody tr th:only-of-type {\n",
       "        vertical-align: middle;\n",
       "    }\n",
       "\n",
       "    .dataframe tbody tr th {\n",
       "        vertical-align: top;\n",
       "    }\n",
       "\n",
       "    .dataframe thead th {\n",
       "        text-align: right;\n",
       "    }\n",
       "</style>\n",
       "<table border=\"1\" class=\"dataframe\">\n",
       "  <thead>\n",
       "    <tr style=\"text-align: right;\">\n",
       "      <th></th>\n",
       "      <th>ID</th>\n",
       "      <th>GRE Score</th>\n",
       "      <th>TOEFL Score</th>\n",
       "      <th>University Rating</th>\n",
       "      <th>SOP</th>\n",
       "      <th>LOR</th>\n",
       "      <th>CGPA</th>\n",
       "      <th>Research</th>\n",
       "      <th>Age</th>\n",
       "      <th>First_Generation</th>\n",
       "      <th>Location_Asia</th>\n",
       "      <th>Location_Europe</th>\n",
       "      <th>Location_North America</th>\n",
       "      <th>Location_South America</th>\n",
       "    </tr>\n",
       "  </thead>\n",
       "  <tbody>\n",
       "    <tr>\n",
       "      <th>0</th>\n",
       "      <td>ID_003601</td>\n",
       "      <td>0.700168</td>\n",
       "      <td>0.645939</td>\n",
       "      <td>0.110127</td>\n",
       "      <td>0.090241</td>\n",
       "      <td>0.184441</td>\n",
       "      <td>1.007619</td>\n",
       "      <td>1</td>\n",
       "      <td>-0.775470</td>\n",
       "      <td>0</td>\n",
       "      <td>0</td>\n",
       "      <td>0</td>\n",
       "      <td>0</td>\n",
       "      <td>1</td>\n",
       "    </tr>\n",
       "    <tr>\n",
       "      <th>1</th>\n",
       "      <td>ID_003602</td>\n",
       "      <td>0.792111</td>\n",
       "      <td>0.820918</td>\n",
       "      <td>1.011164</td>\n",
       "      <td>0.820053</td>\n",
       "      <td>0.286961</td>\n",
       "      <td>0.342461</td>\n",
       "      <td>1</td>\n",
       "      <td>-0.994736</td>\n",
       "      <td>0</td>\n",
       "      <td>1</td>\n",
       "      <td>0</td>\n",
       "      <td>0</td>\n",
       "      <td>0</td>\n",
       "    </tr>\n",
       "    <tr>\n",
       "      <th>2</th>\n",
       "      <td>ID_003603</td>\n",
       "      <td>-0.403156</td>\n",
       "      <td>-0.403938</td>\n",
       "      <td>-0.790910</td>\n",
       "      <td>0.872811</td>\n",
       "      <td>-1.421707</td>\n",
       "      <td>-1.372399</td>\n",
       "      <td>1</td>\n",
       "      <td>-0.775470</td>\n",
       "      <td>1</td>\n",
       "      <td>1</td>\n",
       "      <td>0</td>\n",
       "      <td>0</td>\n",
       "      <td>0</td>\n",
       "    </tr>\n",
       "    <tr>\n",
       "      <th>3</th>\n",
       "      <td>ID_003604</td>\n",
       "      <td>0.700168</td>\n",
       "      <td>0.470959</td>\n",
       "      <td>1.011164</td>\n",
       "      <td>1.347628</td>\n",
       "      <td>0.261331</td>\n",
       "      <td>1.527274</td>\n",
       "      <td>1</td>\n",
       "      <td>-0.117673</td>\n",
       "      <td>0</td>\n",
       "      <td>0</td>\n",
       "      <td>0</td>\n",
       "      <td>1</td>\n",
       "      <td>0</td>\n",
       "    </tr>\n",
       "    <tr>\n",
       "      <th>4</th>\n",
       "      <td>ID_003605</td>\n",
       "      <td>0.516280</td>\n",
       "      <td>0.820918</td>\n",
       "      <td>1.011164</td>\n",
       "      <td>0.538680</td>\n",
       "      <td>2.123780</td>\n",
       "      <td>0.061848</td>\n",
       "      <td>1</td>\n",
       "      <td>0.320859</td>\n",
       "      <td>1</td>\n",
       "      <td>0</td>\n",
       "      <td>0</td>\n",
       "      <td>1</td>\n",
       "      <td>0</td>\n",
       "    </tr>\n",
       "  </tbody>\n",
       "</table>\n",
       "</div>"
      ],
      "text/plain": [
       "          ID  GRE Score  TOEFL Score  University Rating       SOP      LOR   \\\n",
       "0  ID_003601   0.700168     0.645939           0.110127  0.090241  0.184441   \n",
       "1  ID_003602   0.792111     0.820918           1.011164  0.820053  0.286961   \n",
       "2  ID_003603  -0.403156    -0.403938          -0.790910  0.872811 -1.421707   \n",
       "3  ID_003604   0.700168     0.470959           1.011164  1.347628  0.261331   \n",
       "4  ID_003605   0.516280     0.820918           1.011164  0.538680  2.123780   \n",
       "\n",
       "       CGPA  Research       Age  First_Generation  Location_Asia  \\\n",
       "0  1.007619         1 -0.775470                 0              0   \n",
       "1  0.342461         1 -0.994736                 0              1   \n",
       "2 -1.372399         1 -0.775470                 1              1   \n",
       "3  1.527274         1 -0.117673                 0              0   \n",
       "4  0.061848         1  0.320859                 1              0   \n",
       "\n",
       "   Location_Europe  Location_North America  Location_South America  \n",
       "0                0                       0                       1  \n",
       "1                0                       0                       0  \n",
       "2                0                       0                       0  \n",
       "3                0                       1                       0  \n",
       "4                0                       1                       0  "
      ]
     },
     "execution_count": 44,
     "metadata": {},
     "output_type": "execute_result"
    }
   ],
   "source": [
    "test.head()"
   ]
  },
  {
   "cell_type": "code",
   "execution_count": 50,
   "id": "27c6951d",
   "metadata": {},
   "outputs": [],
   "source": [
    "from xgboost import XGBClassifier"
   ]
  },
  {
   "cell_type": "code",
   "execution_count": 48,
   "id": "9e29fe23",
   "metadata": {},
   "outputs": [
    {
     "name": "stdout",
     "output_type": "stream",
     "text": [
      "Defaulting to user installation because normal site-packages is not writeable\n",
      "Collecting xgboost\n",
      "  Downloading xgboost-2.1.4-py3-none-win_amd64.whl (124.9 MB)\n",
      "Requirement already satisfied: scipy in c:\\programdata\\anaconda3\\lib\\site-packages (from xgboost) (1.7.3)\n",
      "Requirement already satisfied: numpy in c:\\programdata\\anaconda3\\lib\\site-packages (from xgboost) (1.21.5)\n",
      "Installing collected packages: xgboost\n",
      "Successfully installed xgboost-2.1.4\n",
      "Defaulting to user installation because normal site-packages is not writeable\n",
      "Requirement already satisfied: xgboost in c:\\users\\user\\appdata\\roaming\\python\\python39\\site-packages (2.1.4)\n",
      "Requirement already satisfied: scipy in c:\\programdata\\anaconda3\\lib\\site-packages (from xgboost) (1.7.3)\n",
      "Requirement already satisfied: numpy in c:\\programdata\\anaconda3\\lib\\site-packages (from xgboost) (1.21.5)\n"
     ]
    }
   ],
   "source": [
    "!pip install xgboost"
   ]
  },
  {
   "cell_type": "code",
   "execution_count": 51,
   "id": "e5f552d5",
   "metadata": {},
   "outputs": [
    {
     "data": {
      "text/plain": [
       "((2880, 13), (720, 13))"
      ]
     },
     "execution_count": 51,
     "metadata": {},
     "output_type": "execute_result"
    }
   ],
   "source": [
    "# Features and target\n",
    "X = train.drop(columns=['Admitted', \"ID\"], axis=1)\n",
    "y = train['Admitted']\n",
    "\n",
    "# Split into train/validation\n",
    "X_train, X_val, y_train, y_val = train_test_split(X, y, test_size=0.2, random_state=42)\n",
    "\n",
    "X_train.shape, X_val.shape\n"
   ]
  },
  {
   "cell_type": "code",
   "execution_count": 52,
   "id": "2dcb0b19",
   "metadata": {},
   "outputs": [],
   "source": [
    "#list of models\n",
    "models = [LogisticRegression(), SVC(kernel='linear'), KNeighborsClassifier(), GradientBoostingClassifier(), XGBClassifier(),DecisionTreeClassifier() ]"
   ]
  },
  {
   "cell_type": "code",
   "execution_count": 55,
   "id": "571ce5f7",
   "metadata": {},
   "outputs": [],
   "source": [
    "def compare_models():\n",
    "    for model in models:\n",
    "        cv_score = cross_val_score(model, X, y, cv=5)\n",
    "        mean_accuracy = sum(cv_score)/len(cv_score)\n",
    "        mean_accuracy = mean_accuracy*100\n",
    "        mean_accuracy = round(mean_accuracy,2)\n",
    "        \n",
    "        print('Cross validation accuracy for the', model, '=', cv_score)\n",
    "        print('Accuracy score of the', model,'=',mean_accuracy,'%')\n",
    "        print('--------------------------------------------------')"
   ]
  },
  {
   "cell_type": "code",
   "execution_count": 56,
   "id": "b9bf5080",
   "metadata": {},
   "outputs": [
    {
     "name": "stdout",
     "output_type": "stream",
     "text": [
      "Cross validation accuracy for the LogisticRegression() = [0.85555556 0.85555556 0.85       0.85416667 0.825     ]\n",
      "Accuracy score of the LogisticRegression() = 84.81 %\n",
      "--------------------------------------------------\n",
      "Cross validation accuracy for the SVC() = [0.85694444 0.86388889 0.84861111 0.85416667 0.81805556]\n",
      "Accuracy score of the SVC() = 84.83 %\n",
      "--------------------------------------------------\n",
      "Cross validation accuracy for the KNeighborsClassifier() = [0.81388889 0.84027778 0.83055556 0.82361111 0.79722222]\n",
      "Accuracy score of the KNeighborsClassifier() = 82.11 %\n",
      "--------------------------------------------------\n",
      "Cross validation accuracy for the GradientBoostingClassifier() = [0.8625     0.86388889 0.85972222 0.85833333 0.84444444]\n",
      "Accuracy score of the GradientBoostingClassifier() = 85.78 %\n",
      "--------------------------------------------------\n",
      "Cross validation accuracy for the XGBClassifier(base_score=None, booster=None, callbacks=None,\n",
      "              colsample_bylevel=None, colsample_bynode=None,\n",
      "              colsample_bytree=None, device=None, early_stopping_rounds=None,\n",
      "              enable_categorical=False, eval_metric=None, feature_types=None,\n",
      "              gamma=None, grow_policy=None, importance_type=None,\n",
      "              interaction_constraints=None, learning_rate=None, max_bin=None,\n",
      "              max_cat_threshold=None, max_cat_to_onehot=None,\n",
      "              max_delta_step=None, max_depth=None, max_leaves=None,\n",
      "              min_child_weight=None, missing=nan, monotone_constraints=None,\n",
      "              multi_strategy=None, n_estimators=None, n_jobs=None,\n",
      "              num_parallel_tree=None, random_state=None, ...) = [0.86527778 0.86666667 0.85138889 0.8625     0.8375    ]\n",
      "Accuracy score of the XGBClassifier(base_score=None, booster=None, callbacks=None,\n",
      "              colsample_bylevel=None, colsample_bynode=None,\n",
      "              colsample_bytree=None, device=None, early_stopping_rounds=None,\n",
      "              enable_categorical=False, eval_metric=None, feature_types=None,\n",
      "              gamma=None, grow_policy=None, importance_type=None,\n",
      "              interaction_constraints=None, learning_rate=None, max_bin=None,\n",
      "              max_cat_threshold=None, max_cat_to_onehot=None,\n",
      "              max_delta_step=None, max_depth=None, max_leaves=None,\n",
      "              min_child_weight=None, missing=nan, monotone_constraints=None,\n",
      "              multi_strategy=None, n_estimators=None, n_jobs=None,\n",
      "              num_parallel_tree=None, random_state=None, ...) = 85.67 %\n",
      "--------------------------------------------------\n",
      "Cross validation accuracy for the DecisionTreeClassifier() = [0.80694444 0.80416667 0.80555556 0.84444444 0.81388889]\n",
      "Accuracy score of the DecisionTreeClassifier() = 81.5 %\n",
      "--------------------------------------------------\n"
     ]
    }
   ],
   "source": [
    "compare_models()"
   ]
  },
  {
   "cell_type": "code",
   "execution_count": 57,
   "id": "505f1b07",
   "metadata": {},
   "outputs": [],
   "source": [
    "#Using Hyperparameter tuning"
   ]
  },
  {
   "cell_type": "code",
   "execution_count": 58,
   "id": "f2730f7f",
   "metadata": {},
   "outputs": [],
   "source": [
    "models_list = [LogisticRegression(), SVC(), KNeighborsClassifier(), GradientBoostingClassifier(), XGBClassifier(),DecisionTreeClassifier() ]"
   ]
  },
  {
   "cell_type": "code",
   "execution_count": 59,
   "id": "c65c1532",
   "metadata": {},
   "outputs": [],
   "source": [
    "model_hyperparameters = {\n",
    "    'log_reg_hyperparameters': {\n",
    "        'C' :[1,5,10,20]\n",
    "    },\n",
    "    'SVC_hyperparameters':{\n",
    "        'kernel':['linear','poly','rbf','sigmoid'],\n",
    "        'C':[1,5,10,20]\n",
    "    },\n",
    "    'KNN_hyperparameters':{\n",
    "        'n_neighbors' : [3,5,10]\n",
    "    },\n",
    "    'Gradientboosting_hyperparameters':{\n",
    "        'n_estimators': [100,200],\n",
    "        'learning_rate':[0.05,0.1],\n",
    "        'max_depth':[3,5]\n",
    "    },\n",
    "    'XGBClassifier_hyperparameters':{\n",
    "        'n_estimators':[100,200],\n",
    "        'learning_rate':[0.05, 0.1],\n",
    "        'max_depth':[3,5]\n",
    "    },\n",
    "    'Decision Tree':{\n",
    "        'max_depth':[3,5,10,None],\n",
    "        'min_samples_split':[2,5,10]\n",
    "    }\n",
    "}"
   ]
  },
  {
   "cell_type": "code",
   "execution_count": 60,
   "id": "bd979a79",
   "metadata": {},
   "outputs": [],
   "source": [
    "from sklearn.metrics import make_scorer"
   ]
  },
  {
   "cell_type": "code",
   "execution_count": 61,
   "id": "6f384452",
   "metadata": {},
   "outputs": [],
   "source": [
    "f1 = make_scorer(f1_score)"
   ]
  },
  {
   "cell_type": "code",
   "execution_count": 63,
   "id": "7b45c332",
   "metadata": {},
   "outputs": [
    {
     "name": "stdout",
     "output_type": "stream",
     "text": [
      "['log_reg_hyperparameters', 'SVC_hyperparameters', 'KNN_hyperparameters', 'Gradientboosting_hyperparameters', 'XGBClassifier_hyperparameters', 'Decision Tree']\n"
     ]
    }
   ],
   "source": [
    "model_keys = list(model_hyperparameters.keys())\n",
    "print(model_keys)"
   ]
  },
  {
   "cell_type": "code",
   "execution_count": 67,
   "id": "7e059fa6",
   "metadata": {},
   "outputs": [],
   "source": [
    "#Applying GridSearchCV\n",
    "def ModelSelection(list_of_models, hyper_dict):\n",
    "    result=[]\n",
    "    i = 0\n",
    "    for model in list_of_models:\n",
    "        key =  model_keys[i]\n",
    "        params = hyper_dict[key]\n",
    "        i+=1\n",
    "        \n",
    "        print(model)\n",
    "        print(params)\n",
    "        print('------------------')\n",
    "        \n",
    "        classifier = GridSearchCV(model,params,cv=5)\n",
    "        #fitting the data to classifier\n",
    "        classifier.fit(X,y)\n",
    "        result.append({\n",
    "            'model used':model,\n",
    "            'highest score':classifier.best_score_,\n",
    "            'best_hyperparameters':classifier.best_params_\n",
    "        })\n",
    "    \n",
    "    result_dataframe =pd.DataFrame(result,columns =['model used','highest score','best_hyperparameters'])\n",
    "    return result_dataframe\n",
    "    "
   ]
  },
  {
   "cell_type": "code",
   "execution_count": 69,
   "id": "0c30ad09",
   "metadata": {},
   "outputs": [
    {
     "name": "stdout",
     "output_type": "stream",
     "text": [
      "LogisticRegression()\n",
      "{'C': [1, 5, 10, 20]}\n",
      "------------------\n",
      "SVC()\n",
      "{'kernel': ['linear', 'poly', 'rbf', 'sigmoid'], 'C': [1, 5, 10, 20]}\n",
      "------------------\n",
      "KNeighborsClassifier()\n",
      "{'n_neighbors': [3, 5, 10]}\n",
      "------------------\n",
      "GradientBoostingClassifier()\n",
      "{'n_estimators': [100, 200], 'learning_rate': [0.05, 0.1], 'max_depth': [3, 5]}\n",
      "------------------\n",
      "XGBClassifier(base_score=None, booster=None, callbacks=None,\n",
      "              colsample_bylevel=None, colsample_bynode=None,\n",
      "              colsample_bytree=None, device=None, early_stopping_rounds=None,\n",
      "              enable_categorical=False, eval_metric=None, feature_types=None,\n",
      "              gamma=None, grow_policy=None, importance_type=None,\n",
      "              interaction_constraints=None, learning_rate=None, max_bin=None,\n",
      "              max_cat_threshold=None, max_cat_to_onehot=None,\n",
      "              max_delta_step=None, max_depth=None, max_leaves=None,\n",
      "              min_child_weight=None, missing=nan, monotone_constraints=None,\n",
      "              multi_strategy=None, n_estimators=None, n_jobs=None,\n",
      "              num_parallel_tree=None, random_state=None, ...)\n",
      "{'n_estimators': [100, 200], 'learning_rate': [0.05, 0.1], 'max_depth': [3, 5]}\n",
      "------------------\n",
      "DecisionTreeClassifier()\n",
      "{'max_depth': [3, 5, 10, None], 'min_samples_split': [2, 5, 10]}\n",
      "------------------\n"
     ]
    },
    {
     "data": {
      "text/html": [
       "<div>\n",
       "<style scoped>\n",
       "    .dataframe tbody tr th:only-of-type {\n",
       "        vertical-align: middle;\n",
       "    }\n",
       "\n",
       "    .dataframe tbody tr th {\n",
       "        vertical-align: top;\n",
       "    }\n",
       "\n",
       "    .dataframe thead th {\n",
       "        text-align: right;\n",
       "    }\n",
       "</style>\n",
       "<table border=\"1\" class=\"dataframe\">\n",
       "  <thead>\n",
       "    <tr style=\"text-align: right;\">\n",
       "      <th></th>\n",
       "      <th>model used</th>\n",
       "      <th>highest score</th>\n",
       "      <th>best_hyperparameters</th>\n",
       "    </tr>\n",
       "  </thead>\n",
       "  <tbody>\n",
       "    <tr>\n",
       "      <th>0</th>\n",
       "      <td>LogisticRegression()</td>\n",
       "      <td>0.848333</td>\n",
       "      <td>{'C': 5}</td>\n",
       "    </tr>\n",
       "    <tr>\n",
       "      <th>1</th>\n",
       "      <td>SVC()</td>\n",
       "      <td>0.848611</td>\n",
       "      <td>{'C': 5, 'kernel': 'rbf'}</td>\n",
       "    </tr>\n",
       "    <tr>\n",
       "      <th>2</th>\n",
       "      <td>KNeighborsClassifier()</td>\n",
       "      <td>0.836389</td>\n",
       "      <td>{'n_neighbors': 10}</td>\n",
       "    </tr>\n",
       "    <tr>\n",
       "      <th>3</th>\n",
       "      <td>GradientBoostingClassifier()</td>\n",
       "      <td>0.868333</td>\n",
       "      <td>{'learning_rate': 0.1, 'max_depth': 5, 'n_esti...</td>\n",
       "    </tr>\n",
       "    <tr>\n",
       "      <th>4</th>\n",
       "      <td>XGBClassifier(base_score=None, booster=None, c...</td>\n",
       "      <td>0.867500</td>\n",
       "      <td>{'learning_rate': 0.05, 'max_depth': 5, 'n_est...</td>\n",
       "    </tr>\n",
       "    <tr>\n",
       "      <th>5</th>\n",
       "      <td>DecisionTreeClassifier()</td>\n",
       "      <td>0.838889</td>\n",
       "      <td>{'max_depth': 5, 'min_samples_split': 5}</td>\n",
       "    </tr>\n",
       "  </tbody>\n",
       "</table>\n",
       "</div>"
      ],
      "text/plain": [
       "                                          model used  highest score  \\\n",
       "0                               LogisticRegression()       0.848333   \n",
       "1                                              SVC()       0.848611   \n",
       "2                             KNeighborsClassifier()       0.836389   \n",
       "3                       GradientBoostingClassifier()       0.868333   \n",
       "4  XGBClassifier(base_score=None, booster=None, c...       0.867500   \n",
       "5                           DecisionTreeClassifier()       0.838889   \n",
       "\n",
       "                                best_hyperparameters  \n",
       "0                                           {'C': 5}  \n",
       "1                          {'C': 5, 'kernel': 'rbf'}  \n",
       "2                                {'n_neighbors': 10}  \n",
       "3  {'learning_rate': 0.1, 'max_depth': 5, 'n_esti...  \n",
       "4  {'learning_rate': 0.05, 'max_depth': 5, 'n_est...  \n",
       "5           {'max_depth': 5, 'min_samples_split': 5}  "
      ]
     },
     "execution_count": 69,
     "metadata": {},
     "output_type": "execute_result"
    }
   ],
   "source": [
    "ModelSelection(models_list,model_hyperparameters)"
   ]
  },
  {
   "cell_type": "code",
   "execution_count": null,
   "id": "0d71a898",
   "metadata": {},
   "outputs": [],
   "source": []
  }
 ],
 "metadata": {
  "kernelspec": {
   "display_name": "base",
   "language": "python",
   "name": "python3"
  },
  "language_info": {
   "codemirror_mode": {
    "name": "ipython",
    "version": 3
   },
   "file_extension": ".py",
   "mimetype": "text/x-python",
   "name": "python",
   "nbconvert_exporter": "python",
   "pygments_lexer": "ipython3",
   "version": "3.12.7"
  }
 },
 "nbformat": 4,
 "nbformat_minor": 5
}
